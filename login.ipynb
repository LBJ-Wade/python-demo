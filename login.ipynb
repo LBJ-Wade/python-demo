{
  "nbformat": 4,
  "nbformat_minor": 0,
  "metadata": {
    "colab": {
      "name": "login.ipynb",
      "provenance": [],
      "include_colab_link": true
    },
    "kernelspec": {
      "name": "python3",
      "display_name": "Python 3"
    }
  },
  "cells": [
    {
      "cell_type": "markdown",
      "metadata": {
        "id": "view-in-github",
        "colab_type": "text"
      },
      "source": [
        "<a href=\"https://colab.research.google.com/github/adammoss/python-demo/blob/master/login.ipynb\" target=\"_parent\"><img src=\"https://colab.research.google.com/assets/colab-badge.svg\" alt=\"Open In Colab\"/></a>"
      ]
    },
    {
      "cell_type": "code",
      "metadata": {
        "id": "2cdo8ZA8XTFh",
        "colab_type": "code",
        "colab": {}
      },
      "source": [
        "\n",
        "import requests\n",
        "from bs4 import BeautifulSoup as bs    "
      ],
      "execution_count": 0,
      "outputs": []
    },
    {
      "cell_type": "code",
      "metadata": {
        "id": "Zfn8w_STXuXu",
        "colab_type": "code",
        "colab": {}
      },
      "source": [
        "def get_login_token(raw_resp):\n",
        "    soup = bs(raw_resp.text, 'lxml')\n",
        "    token = [n.get('value', '') for n in soup.find_all('input')\n",
        "             if n.get('name', '') == 'wpLoginToken']\n",
        "    return token[0]"
      ],
      "execution_count": 0,
      "outputs": []
    },
    {
      "cell_type": "code",
      "metadata": {
        "id": "aqiGhUbcXwy7",
        "colab_type": "code",
        "colab": {}
      },
      "source": [
        "payload = {\n",
        "    'wpName': 'JaneDoe63244',\n",
        "    'wpPassword': 'at?c4a#$8_cALYT',\n",
        "    'wploginattempt': 'Log in',\n",
        "    'wpEditToken': \"+\\\\\",\n",
        "    'title': \"Special:UserLogin\",\n",
        "    'authAction': \"login\",\n",
        "    'force': \"\",\n",
        "    'wpForceHttps': \"1\",\n",
        "    'wpFromhttp': \"1\",\n",
        "  }"
      ],
      "execution_count": 0,
      "outputs": []
    },
    {
      "cell_type": "code",
      "metadata": {
        "id": "ENtuVFSOX30S",
        "colab_type": "code",
        "colab": {}
      },
      "source": [
        "s = requests.Session()"
      ],
      "execution_count": 0,
      "outputs": []
    },
    {
      "cell_type": "code",
      "metadata": {
        "id": "IFf4_FcXX7Fh",
        "colab_type": "code",
        "colab": {}
      },
      "source": [
        "resp = s.get('https://en.wikipedia.org/w/index.php?title=Special:UserLogin')"
      ],
      "execution_count": 0,
      "outputs": []
    },
    {
      "cell_type": "code",
      "metadata": {
        "id": "SAAQByf2X-q6",
        "colab_type": "code",
        "outputId": "36737460-69a8-4d5a-9303-3324ee9b9caf",
        "colab": {
          "base_uri": "https://localhost:8080/",
          "height": 187
        }
      },
      "source": [
        "payload['wpLoginToken'] = get_login_token(resp)\n",
        "payload"
      ],
      "execution_count": 0,
      "outputs": [
        {
          "output_type": "execute_result",
          "data": {
            "text/plain": [
              "{'authAction': 'login',\n",
              " 'force': '',\n",
              " 'title': 'Special:UserLogin',\n",
              " 'wpEditToken': '+\\\\',\n",
              " 'wpForceHttps': '1',\n",
              " 'wpFromhttp': '1',\n",
              " 'wpLoginToken': '2c74f560215d02ce6cce005145ab03e05ddd895b+\\\\',\n",
              " 'wpName': 'JaneDoe63244',\n",
              " 'wpPassword': 'at?c4a#$8_cALYT',\n",
              " 'wploginattempt': 'Log in'}"
            ]
          },
          "metadata": {
            "tags": []
          },
          "execution_count": 13
        }
      ]
    },
    {
      "cell_type": "code",
      "metadata": {
        "id": "cdZg6QpXYA2w",
        "colab_type": "code",
        "colab": {}
      },
      "source": [
        "response_post = s.post('https://en.wikipedia.org/w/index.php?title=Special:UserLogin&action=submitlogin&type=login',\n",
        "                           data=payload)"
      ],
      "execution_count": 0,
      "outputs": []
    },
    {
      "cell_type": "code",
      "metadata": {
        "id": "MsihHiMgYDGy",
        "colab_type": "code",
        "colab": {}
      },
      "source": [
        "response = s.get('https://en.wikipedia.org/wiki/Special:Watchlist')"
      ],
      "execution_count": 0,
      "outputs": []
    },
    {
      "cell_type": "code",
      "metadata": {
        "id": "8mJ-cQUWYVMq",
        "colab_type": "code",
        "outputId": "a324a94e-6918-4dc3-aaf1-2d4473cdee38",
        "colab": {
          "base_uri": "https://localhost:8080/",
          "height": 34
        }
      },
      "source": [
        "response.url"
      ],
      "execution_count": 0,
      "outputs": [
        {
          "output_type": "execute_result",
          "data": {
            "text/plain": [
              "'https://en.wikipedia.org/wiki/Special:Watchlist'"
            ]
          },
          "metadata": {
            "tags": []
          },
          "execution_count": 16
        }
      ]
    },
    {
      "cell_type": "code",
      "metadata": {
        "id": "eaoxX6QwYbyq",
        "colab_type": "code",
        "outputId": "16bd923e-d10e-4385-a460-e7dda67cb786",
        "colab": {
          "base_uri": "https://localhost:8080/",
          "height": 34
        }
      },
      "source": [
        "'JaneDoe63244' in response.text"
      ],
      "execution_count": 0,
      "outputs": [
        {
          "output_type": "execute_result",
          "data": {
            "text/plain": [
              "True"
            ]
          },
          "metadata": {
            "tags": []
          },
          "execution_count": 18
        }
      ]
    },
    {
      "cell_type": "code",
      "metadata": {
        "id": "T5IR9fR0YwQd",
        "colab_type": "code",
        "colab": {}
      },
      "source": [
        ""
      ],
      "execution_count": 0,
      "outputs": []
    }
  ]
}