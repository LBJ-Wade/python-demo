{
  "nbformat": 4,
  "nbformat_minor": 0,
  "metadata": {
    "colab": {
      "name": "Untitled4.ipynb",
      "provenance": [],
      "include_colab_link": true
    },
    "kernelspec": {
      "name": "python3",
      "display_name": "Python 3"
    }
  },
  "cells": [
    {
      "cell_type": "markdown",
      "metadata": {
        "id": "view-in-github",
        "colab_type": "text"
      },
      "source": [
        "<a href=\"https://colab.research.google.com/github/adammoss/python-demo/blob/master/login.ipynb\" target=\"_parent\"><img src=\"https://colab.research.google.com/assets/colab-badge.svg\" alt=\"Open In Colab\"/></a>"
      ]
    },
    {
      "cell_type": "code",
      "metadata": {
        "id": "psOQlu_R6Koa",
        "colab_type": "code",
        "colab": {}
      },
      "source": [
        "# Import requests (Python HTTP library)\n",
        "import requests"
      ],
      "execution_count": 0,
      "outputs": []
    },
    {
      "cell_type": "code",
      "metadata": {
        "id": "w3dI45Ps76v9",
        "colab_type": "code",
        "colab": {}
      },
      "source": [
        "from lxml import html"
      ],
      "execution_count": 0,
      "outputs": []
    },
    {
      "cell_type": "code",
      "metadata": {
        "id": "nGVxo-C46axh",
        "colab_type": "code",
        "colab": {}
      },
      "source": [
        "# Try opening this webpage in your browser\n",
        "url = 'https://auth.yell.com/sso/login'"
      ],
      "execution_count": 0,
      "outputs": []
    },
    {
      "cell_type": "code",
      "metadata": {
        "id": "dSGOuzxl6R10",
        "colab_type": "code",
        "colab": {}
      },
      "source": [
        "# Some webpages will reject reaquests unless it looks like a real person\n",
        "user_agent = \"Mozilla/5.0 (Macintosh; Intel Mac OS X 10.11; rv:44.0) Gecko/20100101 Firefox/44.0\"\n",
        "headers = {\"User-Agent\": user_agent, \"Host\": \"auth.yell.com\", \"Origin\": \"https://auth.yell.com\"}"
      ],
      "execution_count": 0,
      "outputs": []
    },
    {
      "cell_type": "code",
      "metadata": {
        "id": "ydtuoWSX7N-q",
        "colab_type": "code",
        "colab": {}
      },
      "source": [
        "# Set up a session (will store cookies etc)\n",
        "s = requests.Session()"
      ],
      "execution_count": 0,
      "outputs": []
    },
    {
      "cell_type": "code",
      "metadata": {
        "id": "4SOFUD3W7oqO",
        "colab_type": "code",
        "colab": {}
      },
      "source": [
        "response = s.get(url)"
      ],
      "execution_count": 0,
      "outputs": []
    },
    {
      "cell_type": "code",
      "metadata": {
        "id": "_ErNnHKB8Fvv",
        "colab_type": "code",
        "colab": {}
      },
      "source": [
        "login_html = html.fromstring(response.text)\n",
        "hidden_inputs = login_html.xpath(r'//form[@id=\"credential\"]//input[@type=\"hidden\"]')\n",
        "data = {x.attrib[\"name\"]: x.attrib[\"value\"] for x in hidden_inputs}"
      ],
      "execution_count": 0,
      "outputs": []
    },
    {
      "cell_type": "code",
      "metadata": {
        "id": "XhtVtPAH7gTe",
        "colab_type": "code",
        "colab": {
          "base_uri": "https://localhost:8080/",
          "height": 102
        },
        "outputId": "992757fa-045b-4775-cafc-c962ff9ca937"
      },
      "source": [
        "# Login fields - needs investigation to set correct fields\n",
        "data[\"username\"] = \"janedoe63244@gmail.com\"\n",
        "data[\"password\"] = \"at?c4a#$8_cALYT\"\n",
        "data"
      ],
      "execution_count": 72,
      "outputs": [
        {
          "output_type": "execute_result",
          "data": {
            "text/plain": [
              "{'_eventId_submit': 'true',\n",
              " 'execution': 'e1s1',\n",
              " 'lt': 'LT-323740-7eBY9d3k7zowiWXWkCy130eZKlppT2-sso.yell.com',\n",
              " 'password': 'at?c4a#$8_cALYT',\n",
              " 'username': 'janedoe63244@gmail.com'}"
            ]
          },
          "metadata": {
            "tags": []
          },
          "execution_count": 72
        }
      ]
    },
    {
      "cell_type": "code",
      "metadata": {
        "id": "xMbkNJxX7O7q",
        "colab_type": "code",
        "colab": {}
      },
      "source": [
        "# Make HTTP POST request\n",
        "response = s.post(url=url, headers=headers, data=data) "
      ],
      "execution_count": 0,
      "outputs": []
    },
    {
      "cell_type": "code",
      "metadata": {
        "id": "qwqcWDZA9aXq",
        "colab_type": "code",
        "colab": {}
      },
      "source": [
        "url = \"https://www.yell.com/reviews/my\"\n",
        "response = s.get(url)"
      ],
      "execution_count": 0,
      "outputs": []
    },
    {
      "cell_type": "code",
      "metadata": {
        "id": "VLdl5t5m-FT3",
        "colab_type": "code",
        "colab": {
          "base_uri": "https://localhost:8080/",
          "height": 255
        },
        "outputId": "200deb4e-ee14-41f3-9cf4-a8a85b62efca"
      },
      "source": [
        "print(response.text)"
      ],
      "execution_count": 75,
      "outputs": [
        {
          "output_type": "stream",
          "text": [
            "<html>\r\n",
            "<head><title>404 Not Found</title></head>\r\n",
            "<body bgcolor=\"white\">\r\n",
            "<center><h1>404 Not Found</h1></center>\r\n",
            "<hr><center>nginx</center>\r\n",
            "</body>\r\n",
            "</html>\r\n",
            "<!-- a padding to disable MSIE and Chrome friendly error page -->\r\n",
            "<!-- a padding to disable MSIE and Chrome friendly error page -->\r\n",
            "<!-- a padding to disable MSIE and Chrome friendly error page -->\r\n",
            "<!-- a padding to disable MSIE and Chrome friendly error page -->\r\n",
            "<!-- a padding to disable MSIE and Chrome friendly error page -->\r\n",
            "<!-- a padding to disable MSIE and Chrome friendly error page -->\r\n",
            "\n"
          ],
          "name": "stdout"
        }
      ]
    },
    {
      "cell_type": "code",
      "metadata": {
        "id": "xmGuBG7c-06Z",
        "colab_type": "code",
        "colab": {}
      },
      "source": [
        ""
      ],
      "execution_count": 0,
      "outputs": []
    }
  ]
}