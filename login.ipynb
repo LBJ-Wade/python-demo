{
  "nbformat": 4,
  "nbformat_minor": 0,
  "metadata": {
    "colab": {
      "name": "Untitled4.ipynb",
      "provenance": [],
      "include_colab_link": true
    },
    "kernelspec": {
      "name": "python3",
      "display_name": "Python 3"
    }
  },
  "cells": [
    {
      "cell_type": "markdown",
      "metadata": {
        "id": "view-in-github",
        "colab_type": "text"
      },
      "source": [
        "<a href=\"https://colab.research.google.com/github/adammoss/python-demo/blob/master/login.ipynb\" target=\"_parent\"><img src=\"https://colab.research.google.com/assets/colab-badge.svg\" alt=\"Open In Colab\"/></a>"
      ]
    },
    {
      "cell_type": "code",
      "metadata": {
        "id": "psOQlu_R6Koa",
        "colab_type": "code",
        "colab": {}
      },
      "source": [
        "# Import requests (Python HTTP library)\n",
        "import requests"
      ],
      "execution_count": 0,
      "outputs": []
    },
    {
      "cell_type": "code",
      "metadata": {
        "id": "nGVxo-C46axh",
        "colab_type": "code",
        "colab": {}
      },
      "source": [
        "# Try opening this webpage in your browser\n",
        "url = 'http://testing-ground.scraping.pro/login'"
      ],
      "execution_count": 0,
      "outputs": []
    },
    {
      "cell_type": "code",
      "metadata": {
        "id": "dSGOuzxl6R10",
        "colab_type": "code",
        "colab": {}
      },
      "source": [
        "# Some webpages will reject reaquests unless it looks like a real person\n",
        "user_agent = \"Mozilla/5.0 (Macintosh; Intel Mac OS X 10.11; rv:44.0) Gecko/20100101 Firefox/44.0\"\n",
        "headers = {\"User-Agent\": user_agent}"
      ],
      "execution_count": 0,
      "outputs": []
    },
    {
      "cell_type": "code",
      "metadata": {
        "id": "ydtuoWSX7N-q",
        "colab_type": "code",
        "colab": {}
      },
      "source": [
        "# Set up a session (will store cookies etc)\n",
        "s = requests.Session()"
      ],
      "execution_count": 0,
      "outputs": []
    },
    {
      "cell_type": "code",
      "metadata": {
        "id": "XhtVtPAH7gTe",
        "colab_type": "code",
        "colab": {}
      },
      "source": [
        "# Login fields - needs investigation to set correct fields\n",
        "data = {\"pwd\": \"12345\", \"usr\": \"admin\"}"
      ],
      "execution_count": 0,
      "outputs": []
    },
    {
      "cell_type": "code",
      "metadata": {
        "id": "xMbkNJxX7O7q",
        "colab_type": "code",
        "colab": {}
      },
      "source": [
        "# Make HTTP POST request\n",
        "response = s.post(url=url, headers=headers, data=data) "
      ],
      "execution_count": 0,
      "outputs": []
    }
  ]
}