{
  "nbformat": 4,
  "nbformat_minor": 0,
  "metadata": {
    "colab": {
      "name": "login.ipynb",
      "provenance": [],
      "include_colab_link": true
    },
    "kernelspec": {
      "name": "python3",
      "display_name": "Python 3"
    }
  },
  "cells": [
    {
      "cell_type": "markdown",
      "metadata": {
        "id": "view-in-github",
        "colab_type": "text"
      },
      "source": [
        "<a href=\"https://colab.research.google.com/github/adammoss/python-demo/blob/master/login.ipynb\" target=\"_parent\"><img src=\"https://colab.research.google.com/assets/colab-badge.svg\" alt=\"Open In Colab\"/></a>"
      ]
    },
    {
      "cell_type": "code",
      "metadata": {
        "id": "2cdo8ZA8XTFh",
        "colab_type": "code",
        "colab": {}
      },
      "source": [
        "# Import modules\n",
        "import requests\n",
        "from bs4 import BeautifulSoup as bs    "
      ],
      "execution_count": 0,
      "outputs": []
    },
    {
      "cell_type": "code",
      "metadata": {
        "id": "MpllRYUwaDz_",
        "colab_type": "code",
        "colab": {}
      },
      "source": [
        "# Wikipedia user login page (try going here in your browser)\n",
        "LOGIN_URL = 'https://en.wikipedia.org/w/index.php?title=Special:UserLogin'"
      ],
      "execution_count": 0,
      "outputs": []
    },
    {
      "cell_type": "code",
      "metadata": {
        "id": "4FYfeN4sZwbb",
        "colab_type": "code",
        "colab": {}
      },
      "source": [
        "# Login credentials\n",
        "USERNAME = 'JaneDoe63244'\n",
        "PASSWORD = 'at?c4a#$8_cALYT'"
      ],
      "execution_count": 0,
      "outputs": []
    },
    {
      "cell_type": "code",
      "metadata": {
        "id": "Zfn8w_STXuXu",
        "colab_type": "code",
        "colab": {}
      },
      "source": [
        "# Function to obtain login token\n",
        "def get_login_token(raw_resp):\n",
        "    soup = bs(raw_resp.text, 'lxml')\n",
        "    token = [n.get('value', '') for n in soup.find_all('input')\n",
        "             if n.get('name', '') == 'wpLoginToken']\n",
        "    return token[0]"
      ],
      "execution_count": 0,
      "outputs": []
    },
    {
      "cell_type": "code",
      "metadata": {
        "id": "aqiGhUbcXwy7",
        "colab_type": "code",
        "colab": {}
      },
      "source": [
        "# Login payload data\n",
        "payload = {\n",
        "    'wpName': USERNAME,\n",
        "    'wpPassword': PASSWORD,\n",
        "    'wploginattempt': 'Log in',\n",
        "    'wpEditToken': \"+\\\\\",\n",
        "    'title': \"Special:UserLogin\",\n",
        "    'authAction': \"login\",\n",
        "    'force': \"\",\n",
        "    'wpForceHttps': \"1\",\n",
        "    'wpFromhttp': \"1\",\n",
        "}"
      ],
      "execution_count": 0,
      "outputs": []
    },
    {
      "cell_type": "code",
      "metadata": {
        "id": "ENtuVFSOX30S",
        "colab_type": "code",
        "colab": {}
      },
      "source": [
        "# Create session (will store cookies)\n",
        "s = requests.Session()"
      ],
      "execution_count": 0,
      "outputs": []
    },
    {
      "cell_type": "code",
      "metadata": {
        "id": "IFf4_FcXX7Fh",
        "colab_type": "code",
        "colab": {}
      },
      "source": [
        "# Get login page\n",
        "resp = s.get(LOGIN_URL)"
      ],
      "execution_count": 0,
      "outputs": []
    },
    {
      "cell_type": "code",
      "metadata": {
        "id": "SAAQByf2X-q6",
        "colab_type": "code",
        "outputId": "3842928b-648e-43b1-ba60-d898945feb58",
        "colab": {
          "base_uri": "https://localhost:8080/",
          "height": 187
        }
      },
      "source": [
        "# Extract login token from page\n",
        "payload['wpLoginToken'] = get_login_token(resp)\n",
        "payload"
      ],
      "execution_count": 28,
      "outputs": [
        {
          "output_type": "execute_result",
          "data": {
            "text/plain": [
              "{'authAction': 'login',\n",
              " 'force': '',\n",
              " 'title': 'Special:UserLogin',\n",
              " 'wpEditToken': '+\\\\',\n",
              " 'wpForceHttps': '1',\n",
              " 'wpFromhttp': '1',\n",
              " 'wpLoginToken': 'ac150e2228e95df87a1313557b4067835ddd8c1c+\\\\',\n",
              " 'wpName': 'JaneDoe63244',\n",
              " 'wpPassword': 'at?c4a#$8_cALYT',\n",
              " 'wploginattempt': 'Log in'}"
            ]
          },
          "metadata": {
            "tags": []
          },
          "execution_count": 28
        }
      ]
    },
    {
      "cell_type": "code",
      "metadata": {
        "id": "cdZg6QpXYA2w",
        "colab_type": "code",
        "colab": {}
      },
      "source": [
        "# Perform HTTP POST to login with payload\n",
        "FORM_URL = 'https://en.wikipedia.org/w/index.php?title=Special:UserLogin&action=submitlogin&type=login'\n",
        "response_post = s.post(FORM_URL, data=payload)"
      ],
      "execution_count": 0,
      "outputs": []
    },
    {
      "cell_type": "code",
      "metadata": {
        "id": "MsihHiMgYDGy",
        "colab_type": "code",
        "colab": {}
      },
      "source": [
        "# Now we are logged in, get user watchlist\n",
        "response = s.get('https://en.wikipedia.org/wiki/Special:Watchlist')"
      ],
      "execution_count": 0,
      "outputs": []
    },
    {
      "cell_type": "code",
      "metadata": {
        "id": "8mJ-cQUWYVMq",
        "colab_type": "code",
        "outputId": "a0a4a715-00c1-4cd3-fe53-2c1e91677847",
        "colab": {
          "base_uri": "https://localhost:8080/",
          "height": 34
        }
      },
      "source": [
        "# Check that you are really logged in\n",
        "response.url\n",
        "'JaneDoe63244' in response.text"
      ],
      "execution_count": 33,
      "outputs": [
        {
          "output_type": "execute_result",
          "data": {
            "text/plain": [
              "True"
            ]
          },
          "metadata": {
            "tags": []
          },
          "execution_count": 33
        }
      ]
    }
  ]
}