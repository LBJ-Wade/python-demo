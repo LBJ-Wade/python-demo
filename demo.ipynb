{
  "nbformat": 4,
  "nbformat_minor": 0,
  "metadata": {
    "colab": {
      "name": "Untitled1.ipynb",
      "provenance": [],
      "include_colab_link": true
    },
    "kernelspec": {
      "name": "python3",
      "display_name": "Python 3"
    }
  },
  "cells": [
    {
      "cell_type": "markdown",
      "metadata": {
        "id": "view-in-github",
        "colab_type": "text"
      },
      "source": [
        "<a href=\"https://colab.research.google.com/github/adammoss/python-demo/blob/master/demo.ipynb\" target=\"_parent\"><img src=\"https://colab.research.google.com/assets/colab-badge.svg\" alt=\"Open In Colab\"/></a>"
      ]
    },
    {
      "cell_type": "markdown",
      "metadata": {
        "id": "FhRACm9JeXck",
        "colab_type": "text"
      },
      "source": [
        "First import relevant modules"
      ]
    },
    {
      "cell_type": "code",
      "metadata": {
        "id": "JHIKbjQieddq",
        "colab_type": "code",
        "colab": {}
      },
      "source": [
        "# Openpyxl (Excel library)\n",
        "from openpyxl import load_workbook"
      ],
      "execution_count": 0,
      "outputs": []
    },
    {
      "cell_type": "code",
      "metadata": {
        "id": "3UptOiqjLhnf",
        "colab_type": "code",
        "colab": {}
      },
      "source": [
        "# Pandas (data analysis library)\n",
        "import pandas as pd"
      ],
      "execution_count": 0,
      "outputs": []
    },
    {
      "cell_type": "code",
      "metadata": {
        "id": "p4u_0GWjdEzK",
        "colab_type": "code",
        "colab": {}
      },
      "source": [
        "# Matplotlib (plotting library)\n",
        "import matplotlib.pyplot as plt"
      ],
      "execution_count": 0,
      "outputs": []
    },
    {
      "cell_type": "code",
      "metadata": {
        "id": "IfoJP5DoY7rd",
        "colab_type": "code",
        "colab": {}
      },
      "source": [
        "# File input/output\n",
        "from io import BytesIO\n",
        "import urllib"
      ],
      "execution_count": 0,
      "outputs": []
    },
    {
      "cell_type": "code",
      "metadata": {
        "id": "6bi5-wQaMLts",
        "colab_type": "code",
        "colab": {}
      },
      "source": [
        "# Location of sample Excel file (movie data from 1900's)\n",
        "url = 'https://raw.github.com/adammoss/python-demo/master/movies.xlsx'"
      ],
      "execution_count": 0,
      "outputs": []
    },
    {
      "cell_type": "markdown",
      "metadata": {
        "id": "8gcnY8xDdLHF",
        "colab_type": "text"
      },
      "source": [
        "The following code shows the Excel file being read into the python Pandas data analysis library "
      ]
    },
    {
      "cell_type": "code",
      "metadata": {
        "id": "zSTxKGkXMNdE",
        "colab_type": "code",
        "colab": {}
      },
      "source": [
        "# Read into Pandas dataframe\n",
        "df = pd.read_excel(url)"
      ],
      "execution_count": 0,
      "outputs": []
    },
    {
      "cell_type": "code",
      "metadata": {
        "id": "H-EkuFtndlnR",
        "colab_type": "code",
        "colab": {
          "base_uri": "https://localhost:8080/",
          "height": 462
        },
        "outputId": "c105eea1-e2ca-4578-8c03-3ce6281f0870"
      },
      "source": [
        "# Return head of dataframe\n",
        "df.head()"
      ],
      "execution_count": 72,
      "outputs": [
        {
          "output_type": "execute_result",
          "data": {
            "text/html": [
              "<div>\n",
              "<style scoped>\n",
              "    .dataframe tbody tr th:only-of-type {\n",
              "        vertical-align: middle;\n",
              "    }\n",
              "\n",
              "    .dataframe tbody tr th {\n",
              "        vertical-align: top;\n",
              "    }\n",
              "\n",
              "    .dataframe thead th {\n",
              "        text-align: right;\n",
              "    }\n",
              "</style>\n",
              "<table border=\"1\" class=\"dataframe\">\n",
              "  <thead>\n",
              "    <tr style=\"text-align: right;\">\n",
              "      <th></th>\n",
              "      <th>Title</th>\n",
              "      <th>Year</th>\n",
              "      <th>Genres</th>\n",
              "      <th>Language</th>\n",
              "      <th>Country</th>\n",
              "      <th>Content Rating</th>\n",
              "      <th>Duration</th>\n",
              "      <th>Aspect Ratio</th>\n",
              "      <th>Budget</th>\n",
              "      <th>Gross Earnings</th>\n",
              "      <th>Director</th>\n",
              "      <th>Actor 1</th>\n",
              "      <th>Actor 2</th>\n",
              "      <th>Actor 3</th>\n",
              "      <th>Facebook Likes - Director</th>\n",
              "      <th>Facebook Likes - Actor 1</th>\n",
              "      <th>Facebook Likes - Actor 2</th>\n",
              "      <th>Facebook Likes - Actor 3</th>\n",
              "      <th>Facebook Likes - cast Total</th>\n",
              "      <th>Facebook likes - Movie</th>\n",
              "      <th>Facenumber in posters</th>\n",
              "      <th>User Votes</th>\n",
              "      <th>Reviews by Users</th>\n",
              "      <th>Reviews by Crtiics</th>\n",
              "      <th>IMDB Score</th>\n",
              "    </tr>\n",
              "  </thead>\n",
              "  <tbody>\n",
              "    <tr>\n",
              "      <th>0</th>\n",
              "      <td>Intolerance: Love's Struggle Throughout the Ages</td>\n",
              "      <td>1916</td>\n",
              "      <td>Drama|History|War</td>\n",
              "      <td>NaN</td>\n",
              "      <td>USA</td>\n",
              "      <td>Not Rated</td>\n",
              "      <td>123</td>\n",
              "      <td>1.33</td>\n",
              "      <td>385907.0</td>\n",
              "      <td>NaN</td>\n",
              "      <td>D.W. Griffith</td>\n",
              "      <td>Lillian Gish</td>\n",
              "      <td>Mae Marsh</td>\n",
              "      <td>Walter Long</td>\n",
              "      <td>204</td>\n",
              "      <td>436</td>\n",
              "      <td>22</td>\n",
              "      <td>9.0</td>\n",
              "      <td>481</td>\n",
              "      <td>691</td>\n",
              "      <td>1</td>\n",
              "      <td>10718</td>\n",
              "      <td>88</td>\n",
              "      <td>69.0</td>\n",
              "      <td>8.0</td>\n",
              "    </tr>\n",
              "    <tr>\n",
              "      <th>1</th>\n",
              "      <td>Over the Hill to the Poorhouse</td>\n",
              "      <td>1920</td>\n",
              "      <td>Crime|Drama</td>\n",
              "      <td>NaN</td>\n",
              "      <td>USA</td>\n",
              "      <td>NaN</td>\n",
              "      <td>110</td>\n",
              "      <td>1.33</td>\n",
              "      <td>100000.0</td>\n",
              "      <td>3000000.0</td>\n",
              "      <td>Harry F. Millarde</td>\n",
              "      <td>Stephen Carr</td>\n",
              "      <td>Johnnie Walker</td>\n",
              "      <td>Mary Carr</td>\n",
              "      <td>0</td>\n",
              "      <td>2</td>\n",
              "      <td>2</td>\n",
              "      <td>0.0</td>\n",
              "      <td>4</td>\n",
              "      <td>0</td>\n",
              "      <td>1</td>\n",
              "      <td>5</td>\n",
              "      <td>1</td>\n",
              "      <td>1.0</td>\n",
              "      <td>4.8</td>\n",
              "    </tr>\n",
              "    <tr>\n",
              "      <th>2</th>\n",
              "      <td>The Big Parade</td>\n",
              "      <td>1925</td>\n",
              "      <td>Drama|Romance|War</td>\n",
              "      <td>NaN</td>\n",
              "      <td>USA</td>\n",
              "      <td>Not Rated</td>\n",
              "      <td>151</td>\n",
              "      <td>1.33</td>\n",
              "      <td>245000.0</td>\n",
              "      <td>NaN</td>\n",
              "      <td>King Vidor</td>\n",
              "      <td>John Gilbert</td>\n",
              "      <td>Renée Adorée</td>\n",
              "      <td>Claire Adams</td>\n",
              "      <td>54</td>\n",
              "      <td>81</td>\n",
              "      <td>12</td>\n",
              "      <td>6.0</td>\n",
              "      <td>108</td>\n",
              "      <td>226</td>\n",
              "      <td>0</td>\n",
              "      <td>4849</td>\n",
              "      <td>45</td>\n",
              "      <td>48.0</td>\n",
              "      <td>8.3</td>\n",
              "    </tr>\n",
              "    <tr>\n",
              "      <th>3</th>\n",
              "      <td>Metropolis</td>\n",
              "      <td>1927</td>\n",
              "      <td>Drama|Sci-Fi</td>\n",
              "      <td>German</td>\n",
              "      <td>Germany</td>\n",
              "      <td>Not Rated</td>\n",
              "      <td>145</td>\n",
              "      <td>1.33</td>\n",
              "      <td>6000000.0</td>\n",
              "      <td>26435.0</td>\n",
              "      <td>Fritz Lang</td>\n",
              "      <td>Brigitte Helm</td>\n",
              "      <td>Gustav Fröhlich</td>\n",
              "      <td>Rudolf Klein-Rogge</td>\n",
              "      <td>756</td>\n",
              "      <td>136</td>\n",
              "      <td>23</td>\n",
              "      <td>18.0</td>\n",
              "      <td>203</td>\n",
              "      <td>12000</td>\n",
              "      <td>1</td>\n",
              "      <td>111841</td>\n",
              "      <td>413</td>\n",
              "      <td>260.0</td>\n",
              "      <td>8.3</td>\n",
              "    </tr>\n",
              "    <tr>\n",
              "      <th>4</th>\n",
              "      <td>Pandora's Box</td>\n",
              "      <td>1929</td>\n",
              "      <td>Crime|Drama|Romance</td>\n",
              "      <td>German</td>\n",
              "      <td>Germany</td>\n",
              "      <td>Not Rated</td>\n",
              "      <td>110</td>\n",
              "      <td>1.33</td>\n",
              "      <td>NaN</td>\n",
              "      <td>9950.0</td>\n",
              "      <td>Georg Wilhelm Pabst</td>\n",
              "      <td>Louise Brooks</td>\n",
              "      <td>Francis Lederer</td>\n",
              "      <td>Fritz Kortner</td>\n",
              "      <td>21</td>\n",
              "      <td>426</td>\n",
              "      <td>20</td>\n",
              "      <td>3.0</td>\n",
              "      <td>455</td>\n",
              "      <td>926</td>\n",
              "      <td>1</td>\n",
              "      <td>7431</td>\n",
              "      <td>84</td>\n",
              "      <td>71.0</td>\n",
              "      <td>8.0</td>\n",
              "    </tr>\n",
              "  </tbody>\n",
              "</table>\n",
              "</div>"
            ],
            "text/plain": [
              "                                               Title  ...  IMDB Score\n",
              "0  Intolerance: Love's Struggle Throughout the Ages   ...         8.0\n",
              "1                    Over the Hill to the Poorhouse   ...         4.8\n",
              "2                                    The Big Parade   ...         8.3\n",
              "3                                        Metropolis   ...         8.3\n",
              "4                                     Pandora's Box   ...         8.0\n",
              "\n",
              "[5 rows x 25 columns]"
            ]
          },
          "metadata": {
            "tags": []
          },
          "execution_count": 72
        }
      ]
    },
    {
      "cell_type": "code",
      "metadata": {
        "id": "rpZ7gIL2fkjP",
        "colab_type": "code",
        "colab": {
          "base_uri": "https://localhost:8080/",
          "height": 351
        },
        "outputId": "0cc5139b-41f3-430f-c564-133c274f23b1"
      },
      "source": [
        "# Get summary statistics\n",
        "df.describe()"
      ],
      "execution_count": 77,
      "outputs": [
        {
          "output_type": "execute_result",
          "data": {
            "text/html": [
              "<div>\n",
              "<style scoped>\n",
              "    .dataframe tbody tr th:only-of-type {\n",
              "        vertical-align: middle;\n",
              "    }\n",
              "\n",
              "    .dataframe tbody tr th {\n",
              "        vertical-align: top;\n",
              "    }\n",
              "\n",
              "    .dataframe thead th {\n",
              "        text-align: right;\n",
              "    }\n",
              "</style>\n",
              "<table border=\"1\" class=\"dataframe\">\n",
              "  <thead>\n",
              "    <tr style=\"text-align: right;\">\n",
              "      <th></th>\n",
              "      <th>Year</th>\n",
              "      <th>Duration</th>\n",
              "      <th>Aspect Ratio</th>\n",
              "      <th>Budget</th>\n",
              "      <th>Gross Earnings</th>\n",
              "      <th>Facebook Likes - Director</th>\n",
              "      <th>Facebook Likes - Actor 1</th>\n",
              "      <th>Facebook Likes - Actor 2</th>\n",
              "      <th>Facebook Likes - Actor 3</th>\n",
              "      <th>Facebook Likes - cast Total</th>\n",
              "      <th>Facebook likes - Movie</th>\n",
              "      <th>Facenumber in posters</th>\n",
              "      <th>User Votes</th>\n",
              "      <th>Reviews by Users</th>\n",
              "      <th>Reviews by Crtiics</th>\n",
              "      <th>IMDB Score</th>\n",
              "    </tr>\n",
              "  </thead>\n",
              "  <tbody>\n",
              "    <tr>\n",
              "      <th>count</th>\n",
              "      <td>1338.000000</td>\n",
              "      <td>1338.000000</td>\n",
              "      <td>1308.000000</td>\n",
              "      <td>1.281000e+03</td>\n",
              "      <td>1.086000e+03</td>\n",
              "      <td>1338.000000</td>\n",
              "      <td>1338.000000</td>\n",
              "      <td>1338.000000</td>\n",
              "      <td>1336.000000</td>\n",
              "      <td>1338.000000</td>\n",
              "      <td>1338.000000</td>\n",
              "      <td>1338.000000</td>\n",
              "      <td>1.338000e+03</td>\n",
              "      <td>1338.000000</td>\n",
              "      <td>1335.000000</td>\n",
              "      <td>1338.000000</td>\n",
              "    </tr>\n",
              "    <tr>\n",
              "      <th>mean</th>\n",
              "      <td>1987.289985</td>\n",
              "      <td>113.071001</td>\n",
              "      <td>1.987752</td>\n",
              "      <td>2.712064e+07</td>\n",
              "      <td>4.752741e+07</td>\n",
              "      <td>1026.567265</td>\n",
              "      <td>5255.186846</td>\n",
              "      <td>1227.041106</td>\n",
              "      <td>456.738772</td>\n",
              "      <td>7673.354260</td>\n",
              "      <td>2656.870703</td>\n",
              "      <td>1.167414</td>\n",
              "      <td>8.538817e+04</td>\n",
              "      <td>255.183857</td>\n",
              "      <td>85.108614</td>\n",
              "      <td>6.702167</td>\n",
              "    </tr>\n",
              "    <tr>\n",
              "      <th>std</th>\n",
              "      <td>14.124870</td>\n",
              "      <td>27.434048</td>\n",
              "      <td>0.310047</td>\n",
              "      <td>8.466937e+07</td>\n",
              "      <td>6.113161e+07</td>\n",
              "      <td>3446.329257</td>\n",
              "      <td>8652.096738</td>\n",
              "      <td>2891.932284</td>\n",
              "      <td>880.031542</td>\n",
              "      <td>11055.985788</td>\n",
              "      <td>7446.142461</td>\n",
              "      <td>1.608806</td>\n",
              "      <td>1.560198e+05</td>\n",
              "      <td>343.287920</td>\n",
              "      <td>62.040982</td>\n",
              "      <td>1.066497</td>\n",
              "    </tr>\n",
              "    <tr>\n",
              "      <th>min</th>\n",
              "      <td>1916.000000</td>\n",
              "      <td>25.000000</td>\n",
              "      <td>1.180000</td>\n",
              "      <td>7.000000e+03</td>\n",
              "      <td>5.494000e+03</td>\n",
              "      <td>0.000000</td>\n",
              "      <td>0.000000</td>\n",
              "      <td>0.000000</td>\n",
              "      <td>0.000000</td>\n",
              "      <td>0.000000</td>\n",
              "      <td>0.000000</td>\n",
              "      <td>0.000000</td>\n",
              "      <td>5.000000e+00</td>\n",
              "      <td>1.000000</td>\n",
              "      <td>1.000000</td>\n",
              "      <td>2.300000</td>\n",
              "    </tr>\n",
              "    <tr>\n",
              "      <th>25%</th>\n",
              "      <td>1982.000000</td>\n",
              "      <td>96.000000</td>\n",
              "      <td>1.850000</td>\n",
              "      <td>4.000000e+06</td>\n",
              "      <td>8.182800e+06</td>\n",
              "      <td>6.000000</td>\n",
              "      <td>605.000000</td>\n",
              "      <td>273.000000</td>\n",
              "      <td>136.000000</td>\n",
              "      <td>1412.000000</td>\n",
              "      <td>0.000000</td>\n",
              "      <td>0.000000</td>\n",
              "      <td>9.905500e+03</td>\n",
              "      <td>77.250000</td>\n",
              "      <td>39.000000</td>\n",
              "      <td>6.100000</td>\n",
              "    </tr>\n",
              "    <tr>\n",
              "      <th>50%</th>\n",
              "      <td>1993.000000</td>\n",
              "      <td>107.000000</td>\n",
              "      <td>1.850000</td>\n",
              "      <td>1.400000e+07</td>\n",
              "      <td>2.724075e+07</td>\n",
              "      <td>56.500000</td>\n",
              "      <td>925.500000</td>\n",
              "      <td>559.000000</td>\n",
              "      <td>324.000000</td>\n",
              "      <td>2660.000000</td>\n",
              "      <td>17.500000</td>\n",
              "      <td>1.000000</td>\n",
              "      <td>3.370500e+04</td>\n",
              "      <td>159.000000</td>\n",
              "      <td>71.000000</td>\n",
              "      <td>6.800000</td>\n",
              "    </tr>\n",
              "    <tr>\n",
              "      <th>75%</th>\n",
              "      <td>1997.000000</td>\n",
              "      <td>123.000000</td>\n",
              "      <td>2.350000</td>\n",
              "      <td>3.300000e+07</td>\n",
              "      <td>6.358500e+07</td>\n",
              "      <td>272.000000</td>\n",
              "      <td>10000.000000</td>\n",
              "      <td>849.000000</td>\n",
              "      <td>586.500000</td>\n",
              "      <td>11937.750000</td>\n",
              "      <td>812.000000</td>\n",
              "      <td>2.000000</td>\n",
              "      <td>9.031425e+04</td>\n",
              "      <td>306.750000</td>\n",
              "      <td>118.000000</td>\n",
              "      <td>7.400000</td>\n",
              "    </tr>\n",
              "    <tr>\n",
              "      <th>max</th>\n",
              "      <td>1999.000000</td>\n",
              "      <td>330.000000</td>\n",
              "      <td>2.760000</td>\n",
              "      <td>2.400000e+09</td>\n",
              "      <td>6.586723e+08</td>\n",
              "      <td>21000.000000</td>\n",
              "      <td>49000.000000</td>\n",
              "      <td>29000.000000</td>\n",
              "      <td>13000.000000</td>\n",
              "      <td>74382.000000</td>\n",
              "      <td>108000.000000</td>\n",
              "      <td>15.000000</td>\n",
              "      <td>1.689764e+06</td>\n",
              "      <td>4144.000000</td>\n",
              "      <td>392.000000</td>\n",
              "      <td>9.300000</td>\n",
              "    </tr>\n",
              "  </tbody>\n",
              "</table>\n",
              "</div>"
            ],
            "text/plain": [
              "              Year     Duration  ...  Reviews by Crtiics   IMDB Score\n",
              "count  1338.000000  1338.000000  ...         1335.000000  1338.000000\n",
              "mean   1987.289985   113.071001  ...           85.108614     6.702167\n",
              "std      14.124870    27.434048  ...           62.040982     1.066497\n",
              "min    1916.000000    25.000000  ...            1.000000     2.300000\n",
              "25%    1982.000000    96.000000  ...           39.000000     6.100000\n",
              "50%    1993.000000   107.000000  ...           71.000000     6.800000\n",
              "75%    1997.000000   123.000000  ...          118.000000     7.400000\n",
              "max    1999.000000   330.000000  ...          392.000000     9.300000\n",
              "\n",
              "[8 rows x 16 columns]"
            ]
          },
          "metadata": {
            "tags": []
          },
          "execution_count": 77
        }
      ]
    },
    {
      "cell_type": "code",
      "metadata": {
        "id": "Rc1XXz3Vewb2",
        "colab_type": "code",
        "colab": {
          "base_uri": "https://localhost:8080/",
          "height": 265
        },
        "outputId": "6b8bfd41-3c23-47b2-909d-f250053be424"
      },
      "source": [
        "# Plot histogram of IMDB score\n",
        "df['IMDB Score'].plot(kind=\"hist\")\n",
        "plt.show()"
      ],
      "execution_count": 76,
      "outputs": [
        {
          "output_type": "display_data",
          "data": {
            "image/png": "[encoded data removed]",
            "text/plain": [
              "<Figure size 432x288 with 1 Axes>"
            ]
          },
          "metadata": {
            "tags": []
          }
        }
      ]
    },
    {
      "cell_type": "code",
      "metadata": {
        "id": "KUxPeGoSgYHW",
        "colab_type": "code",
        "colab": {}
      },
      "source": [
        "# Create pivot table using year\n",
        "table = pd.pivot_table(df, index='Year').reset_index('Year')"
      ],
      "execution_count": 0,
      "outputs": []
    },
    {
      "cell_type": "code",
      "metadata": {
        "id": "lNTHI7oLhWcy",
        "colab_type": "code",
        "colab": {
          "base_uri": "https://localhost:8080/",
          "height": 238
        },
        "outputId": "a2231222-972d-4104-dfb9-d8077e2d3591"
      },
      "source": [
        "table.head()"
      ],
      "execution_count": 90,
      "outputs": [
        {
          "output_type": "execute_result",
          "data": {
            "text/html": [
              "<div>\n",
              "<style scoped>\n",
              "    .dataframe tbody tr th:only-of-type {\n",
              "        vertical-align: middle;\n",
              "    }\n",
              "\n",
              "    .dataframe tbody tr th {\n",
              "        vertical-align: top;\n",
              "    }\n",
              "\n",
              "    .dataframe thead th {\n",
              "        text-align: right;\n",
              "    }\n",
              "</style>\n",
              "<table border=\"1\" class=\"dataframe\">\n",
              "  <thead>\n",
              "    <tr style=\"text-align: right;\">\n",
              "      <th></th>\n",
              "      <th>Year</th>\n",
              "      <th>Aspect Ratio</th>\n",
              "      <th>Budget</th>\n",
              "      <th>Duration</th>\n",
              "      <th>Facebook Likes - Actor 1</th>\n",
              "      <th>Facebook Likes - Actor 2</th>\n",
              "      <th>Facebook Likes - Actor 3</th>\n",
              "      <th>Facebook Likes - Director</th>\n",
              "      <th>Facebook Likes - cast Total</th>\n",
              "      <th>Facebook likes - Movie</th>\n",
              "      <th>Facenumber in posters</th>\n",
              "      <th>Gross Earnings</th>\n",
              "      <th>IMDB Score</th>\n",
              "      <th>Reviews by Crtiics</th>\n",
              "      <th>Reviews by Users</th>\n",
              "      <th>User Votes</th>\n",
              "    </tr>\n",
              "  </thead>\n",
              "  <tbody>\n",
              "    <tr>\n",
              "      <th>0</th>\n",
              "      <td>1916</td>\n",
              "      <td>1.33</td>\n",
              "      <td>385907.0</td>\n",
              "      <td>123.0</td>\n",
              "      <td>436.0</td>\n",
              "      <td>22.0</td>\n",
              "      <td>9.0</td>\n",
              "      <td>204.0</td>\n",
              "      <td>481.0</td>\n",
              "      <td>691.0</td>\n",
              "      <td>1.0</td>\n",
              "      <td>NaN</td>\n",
              "      <td>8.00</td>\n",
              "      <td>69.0</td>\n",
              "      <td>88.0</td>\n",
              "      <td>10718.0</td>\n",
              "    </tr>\n",
              "    <tr>\n",
              "      <th>1</th>\n",
              "      <td>1920</td>\n",
              "      <td>1.33</td>\n",
              "      <td>100000.0</td>\n",
              "      <td>110.0</td>\n",
              "      <td>2.0</td>\n",
              "      <td>2.0</td>\n",
              "      <td>0.0</td>\n",
              "      <td>0.0</td>\n",
              "      <td>4.0</td>\n",
              "      <td>0.0</td>\n",
              "      <td>1.0</td>\n",
              "      <td>3000000.0</td>\n",
              "      <td>4.80</td>\n",
              "      <td>1.0</td>\n",
              "      <td>1.0</td>\n",
              "      <td>5.0</td>\n",
              "    </tr>\n",
              "    <tr>\n",
              "      <th>2</th>\n",
              "      <td>1925</td>\n",
              "      <td>1.33</td>\n",
              "      <td>245000.0</td>\n",
              "      <td>151.0</td>\n",
              "      <td>81.0</td>\n",
              "      <td>12.0</td>\n",
              "      <td>6.0</td>\n",
              "      <td>54.0</td>\n",
              "      <td>108.0</td>\n",
              "      <td>226.0</td>\n",
              "      <td>0.0</td>\n",
              "      <td>NaN</td>\n",
              "      <td>8.30</td>\n",
              "      <td>48.0</td>\n",
              "      <td>45.0</td>\n",
              "      <td>4849.0</td>\n",
              "    </tr>\n",
              "    <tr>\n",
              "      <th>3</th>\n",
              "      <td>1927</td>\n",
              "      <td>1.33</td>\n",
              "      <td>6000000.0</td>\n",
              "      <td>145.0</td>\n",
              "      <td>136.0</td>\n",
              "      <td>23.0</td>\n",
              "      <td>18.0</td>\n",
              "      <td>756.0</td>\n",
              "      <td>203.0</td>\n",
              "      <td>12000.0</td>\n",
              "      <td>1.0</td>\n",
              "      <td>26435.0</td>\n",
              "      <td>8.30</td>\n",
              "      <td>260.0</td>\n",
              "      <td>413.0</td>\n",
              "      <td>111841.0</td>\n",
              "    </tr>\n",
              "    <tr>\n",
              "      <th>4</th>\n",
              "      <td>1929</td>\n",
              "      <td>1.35</td>\n",
              "      <td>379000.0</td>\n",
              "      <td>105.0</td>\n",
              "      <td>251.5</td>\n",
              "      <td>24.0</td>\n",
              "      <td>3.5</td>\n",
              "      <td>12.5</td>\n",
              "      <td>282.0</td>\n",
              "      <td>546.5</td>\n",
              "      <td>4.5</td>\n",
              "      <td>1408975.0</td>\n",
              "      <td>7.15</td>\n",
              "      <td>53.5</td>\n",
              "      <td>77.5</td>\n",
              "      <td>5988.5</td>\n",
              "    </tr>\n",
              "  </tbody>\n",
              "</table>\n",
              "</div>"
            ],
            "text/plain": [
              "   Year  Aspect Ratio  ...  Reviews by Users  User Votes\n",
              "0  1916          1.33  ...              88.0     10718.0\n",
              "1  1920          1.33  ...               1.0         5.0\n",
              "2  1925          1.33  ...              45.0      4849.0\n",
              "3  1927          1.33  ...             413.0    111841.0\n",
              "4  1929          1.35  ...              77.5      5988.5\n",
              "\n",
              "[5 rows x 16 columns]"
            ]
          },
          "metadata": {
            "tags": []
          },
          "execution_count": 90
        }
      ]
    },
    {
      "cell_type": "code",
      "metadata": {
        "id": "0fqm_IgwgtIL",
        "colab_type": "code",
        "colab": {
          "base_uri": "https://localhost:8080/",
          "height": 296
        },
        "outputId": "64ba20b5-669d-4772-d0ec-41c50fe5a675"
      },
      "source": [
        "# Plot average IMDB rating as a function of year\n",
        "plt.plot(table['Year'], table['IMDB Score'])\n",
        "plt.xlabel('Year')\n",
        "plt.ylabel('IMDB Score')"
      ],
      "execution_count": 97,
      "outputs": [
        {
          "output_type": "execute_result",
          "data": {
            "text/plain": [
              "Text(0, 0.5, 'IMDB Score')"
            ]
          },
          "metadata": {
            "tags": []
          },
          "execution_count": 97
        },
        {
          "output_type": "display_data",
          "data": {
            "image/png": "[encoded data removed]",
            "text/plain": [
              "<Figure size 432x288 with 1 Axes>"
            ]
          },
          "metadata": {
            "tags": []
          }
        }
      ]
    },
    {
      "cell_type": "markdown",
      "metadata": {
        "id": "Knf_ANqmdwXV",
        "colab_type": "text"
      },
      "source": [
        "The following code shows the Excel file being read into the python openpyxl Excel library\n",
        "\n"
      ]
    },
    {
      "cell_type": "code",
      "metadata": {
        "id": "afblkDSiMS9k",
        "colab_type": "code",
        "colab": {}
      },
      "source": [
        "# Load Excel workbook\n",
        "wb = load_workbook(BytesIO(urllib.request.urlopen(url).read()))\n"
      ],
      "execution_count": 0,
      "outputs": []
    },
    {
      "cell_type": "code",
      "metadata": {
        "id": "-sSN0yAGUgnL",
        "colab_type": "code",
        "colab": {}
      },
      "source": [
        "# Get the active sheet\n",
        "ws = wb.active"
      ],
      "execution_count": 0,
      "outputs": []
    },
    {
      "cell_type": "code",
      "metadata": {
        "id": "BcOD8SgKcdk4",
        "colab_type": "code",
        "colab": {}
      },
      "source": [
        ""
      ],
      "execution_count": 0,
      "outputs": []
    }
  ]
}