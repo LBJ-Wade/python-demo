{
  "nbformat": 4,
  "nbformat_minor": 0,
  "metadata": {
    "colab": {
      "name": "Untitled1.ipynb",
      "provenance": [],
      "include_colab_link": true
    },
    "kernelspec": {
      "name": "python3",
      "display_name": "Python 3"
    }
  },
  "cells": [
    {
      "cell_type": "markdown",
      "metadata": {
        "id": "view-in-github",
        "colab_type": "text"
      },
      "source": [
        "<a href=\"https://colab.research.google.com/github/adammoss/python-demo/blob/master/demo.ipynb\" target=\"_parent\"><img src=\"https://colab.research.google.com/assets/colab-badge.svg\" alt=\"Open In Colab\"/></a>"
      ]
    },
    {
      "cell_type": "markdown",
      "metadata": {
        "id": "FhRACm9JeXck",
        "colab_type": "text"
      },
      "source": [
        "First import relevant modules"
      ]
    },
    {
      "cell_type": "code",
      "metadata": {
        "id": "JHIKbjQieddq",
        "colab_type": "code",
        "colab": {}
      },
      "source": [
        "# Openpyxl (Excel library)\n",
        "from openpyxl import load_workbook"
      ],
      "execution_count": 0,
      "outputs": []
    },
    {
      "cell_type": "code",
      "metadata": {
        "id": "3UptOiqjLhnf",
        "colab_type": "code",
        "colab": {}
      },
      "source": [
        "# Pandas (data analysis library)\n",
        "import pandas as pd"
      ],
      "execution_count": 0,
      "outputs": []
    },
    {
      "cell_type": "code",
      "metadata": {
        "id": "p4u_0GWjdEzK",
        "colab_type": "code",
        "colab": {}
      },
      "source": [
        "# Matplotlib (plotting library)\n",
        "import matplotlib.pyplot as plt"
      ],
      "execution_count": 0,
      "outputs": []
    },
    {
      "cell_type": "code",
      "metadata": {
        "id": "IfoJP5DoY7rd",
        "colab_type": "code",
        "colab": {}
      },
      "source": [
        "# File input/output\n",
        "from io import BytesIO\n",
        "import urllib"
      ],
      "execution_count": 0,
      "outputs": []
    },
    {
      "cell_type": "code",
      "metadata": {
        "id": "6bi5-wQaMLts",
        "colab_type": "code",
        "colab": {}
      },
      "source": [
        "# Location of sample Excel file (movie data from 1900's)\n",
        "url = 'https://raw.github.com/adammoss/python-demo/master/movies.xlsx'"
      ],
      "execution_count": 0,
      "outputs": []
    },
    {
      "cell_type": "markdown",
      "metadata": {
        "id": "8gcnY8xDdLHF",
        "colab_type": "text"
      },
      "source": [
        "The following code shows the Excel file being read into the python Pandas data analysis library "
      ]
    },
    {
      "cell_type": "code",
      "metadata": {
        "id": "zSTxKGkXMNdE",
        "colab_type": "code",
        "colab": {}
      },
      "source": [
        "# Read into Pandas dataframe\n",
        "df = pd.read_excel(url)"
      ],
      "execution_count": 0,
      "outputs": []
    },
    {
      "cell_type": "code",
      "metadata": {
        "id": "H-EkuFtndlnR",
        "colab_type": "code",
        "colab": {
          "base_uri": "https://localhost:8080/",
          "height": 462
        },
        "outputId": "c105eea1-e2ca-4578-8c03-3ce6281f0870"
      },
      "source": [
        "# Return head of dataframe\n",
        "df.head()"
      ],
      "execution_count": 72,
      "outputs": [
        {
          "output_type": "execute_result",
          "data": {
            "text/html": [
              "<div>\n",
              "<style scoped>\n",
              "    .dataframe tbody tr th:only-of-type {\n",
              "        vertical-align: middle;\n",
              "    }\n",
              "\n",
              "    .dataframe tbody tr th {\n",
              "        vertical-align: top;\n",
              "    }\n",
              "\n",
              "    .dataframe thead th {\n",
              "        text-align: right;\n",
              "    }\n",
              "</style>\n",
              "<table border=\"1\" class=\"dataframe\">\n",
              "  <thead>\n",
              "    <tr style=\"text-align: right;\">\n",
              "      <th></th>\n",
              "      <th>Title</th>\n",
              "      <th>Year</th>\n",
              "      <th>Genres</th>\n",
              "      <th>Language</th>\n",
              "      <th>Country</th>\n",
              "      <th>Content Rating</th>\n",
              "      <th>Duration</th>\n",
              "      <th>Aspect Ratio</th>\n",
              "      <th>Budget</th>\n",
              "      <th>Gross Earnings</th>\n",
              "      <th>Director</th>\n",
              "      <th>Actor 1</th>\n",
              "      <th>Actor 2</th>\n",
              "      <th>Actor 3</th>\n",
              "      <th>Facebook Likes - Director</th>\n",
              "      <th>Facebook Likes - Actor 1</th>\n",
              "      <th>Facebook Likes - Actor 2</th>\n",
              "      <th>Facebook Likes - Actor 3</th>\n",
              "      <th>Facebook Likes - cast Total</th>\n",
              "      <th>Facebook likes - Movie</th>\n",
              "      <th>Facenumber in posters</th>\n",
              "      <th>User Votes</th>\n",
              "      <th>Reviews by Users</th>\n",
              "      <th>Reviews by Crtiics</th>\n",
              "      <th>IMDB Score</th>\n",
              "    </tr>\n",
              "  </thead>\n",
              "  <tbody>\n",
              "    <tr>\n",
              "      <th>0</th>\n",
              "      <td>Intolerance: Love's Struggle Throughout the Ages</td>\n",
              "      <td>1916</td>\n",
              "      <td>Drama|History|War</td>\n",
              "      <td>NaN</td>\n",
              "      <td>USA</td>\n",
              "      <td>Not Rated</td>\n",
              "      <td>123</td>\n",
              "      <td>1.33</td>\n",
              "      <td>385907.0</td>\n",
              "      <td>NaN</td>\n",
              "      <td>D.W. Griffith</td>\n",
              "      <td>Lillian Gish</td>\n",
              "      <td>Mae Marsh</td>\n",
              "      <td>Walter Long</td>\n",
              "      <td>204</td>\n",
              "      <td>436</td>\n",
              "      <td>22</td>\n",
              "      <td>9.0</td>\n",
              "      <td>481</td>\n",
              "      <td>691</td>\n",
              "      <td>1</td>\n",
              "      <td>10718</td>\n",
              "      <td>88</td>\n",
              "      <td>69.0</td>\n",
              "      <td>8.0</td>\n",
              "    </tr>\n",
              "    <tr>\n",
              "      <th>1</th>\n",
              "      <td>Over the Hill to the Poorhouse</td>\n",
              "      <td>1920</td>\n",
              "      <td>Crime|Drama</td>\n",
              "      <td>NaN</td>\n",
              "      <td>USA</td>\n",
              "      <td>NaN</td>\n",
              "      <td>110</td>\n",
              "      <td>1.33</td>\n",
              "      <td>100000.0</td>\n",
              "      <td>3000000.0</td>\n",
              "      <td>Harry F. Millarde</td>\n",
              "      <td>Stephen Carr</td>\n",
              "      <td>Johnnie Walker</td>\n",
              "      <td>Mary Carr</td>\n",
              "      <td>0</td>\n",
              "      <td>2</td>\n",
              "      <td>2</td>\n",
              "      <td>0.0</td>\n",
              "      <td>4</td>\n",
              "      <td>0</td>\n",
              "      <td>1</td>\n",
              "      <td>5</td>\n",
              "      <td>1</td>\n",
              "      <td>1.0</td>\n",
              "      <td>4.8</td>\n",
              "    </tr>\n",
              "    <tr>\n",
              "      <th>2</th>\n",
              "      <td>The Big Parade</td>\n",
              "      <td>1925</td>\n",
              "      <td>Drama|Romance|War</td>\n",
              "      <td>NaN</td>\n",
              "      <td>USA</td>\n",
              "      <td>Not Rated</td>\n",
              "      <td>151</td>\n",
              "      <td>1.33</td>\n",
              "      <td>245000.0</td>\n",
              "      <td>NaN</td>\n",
              "      <td>King Vidor</td>\n",
              "      <td>John Gilbert</td>\n",
              "      <td>Renée Adorée</td>\n",
              "      <td>Claire Adams</td>\n",
              "      <td>54</td>\n",
              "      <td>81</td>\n",
              "      <td>12</td>\n",
              "      <td>6.0</td>\n",
              "      <td>108</td>\n",
              "      <td>226</td>\n",
              "      <td>0</td>\n",
              "      <td>4849</td>\n",
              "      <td>45</td>\n",
              "      <td>48.0</td>\n",
              "      <td>8.3</td>\n",
              "    </tr>\n",
              "    <tr>\n",
              "      <th>3</th>\n",
              "      <td>Metropolis</td>\n",
              "      <td>1927</td>\n",
              "      <td>Drama|Sci-Fi</td>\n",
              "      <td>German</td>\n",
              "      <td>Germany</td>\n",
              "      <td>Not Rated</td>\n",
              "      <td>145</td>\n",
              "      <td>1.33</td>\n",
              "      <td>6000000.0</td>\n",
              "      <td>26435.0</td>\n",
              "      <td>Fritz Lang</td>\n",
              "      <td>Brigitte Helm</td>\n",
              "      <td>Gustav Fröhlich</td>\n",
              "      <td>Rudolf Klein-Rogge</td>\n",
              "      <td>756</td>\n",
              "      <td>136</td>\n",
              "      <td>23</td>\n",
              "      <td>18.0</td>\n",
              "      <td>203</td>\n",
              "      <td>12000</td>\n",
              "      <td>1</td>\n",
              "      <td>111841</td>\n",
              "      <td>413</td>\n",
              "      <td>260.0</td>\n",
              "      <td>8.3</td>\n",
              "    </tr>\n",
              "    <tr>\n",
              "      <th>4</th>\n",
              "      <td>Pandora's Box</td>\n",
              "      <td>1929</td>\n",
              "      <td>Crime|Drama|Romance</td>\n",
              "      <td>German</td>\n",
              "      <td>Germany</td>\n",
              "      <td>Not Rated</td>\n",
              "      <td>110</td>\n",
              "      <td>1.33</td>\n",
              "      <td>NaN</td>\n",
              "      <td>9950.0</td>\n",
              "      <td>Georg Wilhelm Pabst</td>\n",
              "      <td>Louise Brooks</td>\n",
              "      <td>Francis Lederer</td>\n",
              "      <td>Fritz Kortner</td>\n",
              "      <td>21</td>\n",
              "      <td>426</td>\n",
              "      <td>20</td>\n",
              "      <td>3.0</td>\n",
              "      <td>455</td>\n",
              "      <td>926</td>\n",
              "      <td>1</td>\n",
              "      <td>7431</td>\n",
              "      <td>84</td>\n",
              "      <td>71.0</td>\n",
              "      <td>8.0</td>\n",
              "    </tr>\n",
              "  </tbody>\n",
              "</table>\n",
              "</div>"
            ],
            "text/plain": [
              "                                               Title  ...  IMDB Score\n",
              "0  Intolerance: Love's Struggle Throughout the Ages   ...         8.0\n",
              "1                    Over the Hill to the Poorhouse   ...         4.8\n",
              "2                                    The Big Parade   ...         8.3\n",
              "3                                        Metropolis   ...         8.3\n",
              "4                                     Pandora's Box   ...         8.0\n",
              "\n",
              "[5 rows x 25 columns]"
            ]
          },
          "metadata": {
            "tags": []
          },
          "execution_count": 72
        }
      ]
    },
    {
      "cell_type": "code",
      "metadata": {
        "id": "Rc1XXz3Vewb2",
        "colab_type": "code",
        "colab": {
          "base_uri": "https://localhost:8080/",
          "height": 265
        },
        "outputId": "6b8bfd41-3c23-47b2-909d-f250053be424"
      },
      "source": [
        "# Plot histogram of IMDB score\n",
        "df['IMDB Score'].plot(kind=\"hist\")\n",
        "plt.show()"
      ],
      "execution_count": 76,
      "outputs": [
        {
          "output_type": "display_data",
          "data": {
            "image/png": "[encoded data removed]",
            "text/plain": [
              "<Figure size 432x288 with 1 Axes>"
            ]
          },
          "metadata": {
            "tags": []
          }
        }
      ]
    },
    {
      "cell_type": "markdown",
      "metadata": {
        "id": "Knf_ANqmdwXV",
        "colab_type": "text"
      },
      "source": [
        "The following code shows the Excel file being read into the python openpyxl Excel library\n",
        "\n"
      ]
    },
    {
      "cell_type": "code",
      "metadata": {
        "id": "afblkDSiMS9k",
        "colab_type": "code",
        "colab": {}
      },
      "source": [
        "# Load Excel workbook\n",
        "wb = load_workbook(BytesIO(urllib.request.urlopen(url).read()))\n"
      ],
      "execution_count": 0,
      "outputs": []
    },
    {
      "cell_type": "code",
      "metadata": {
        "id": "-sSN0yAGUgnL",
        "colab_type": "code",
        "colab": {}
      },
      "source": [
        "# Get the active sheet\n",
        "ws = wb.active"
      ],
      "execution_count": 0,
      "outputs": []
    },
    {
      "cell_type": "code",
      "metadata": {
        "id": "BcOD8SgKcdk4",
        "colab_type": "code",
        "colab": {}
      },
      "source": [
        ""
      ],
      "execution_count": 0,
      "outputs": []
    }
  ]
}